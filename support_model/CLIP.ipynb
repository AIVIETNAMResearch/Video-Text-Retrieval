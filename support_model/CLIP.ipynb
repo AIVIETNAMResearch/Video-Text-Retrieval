{
  "cells": [
    {
      "cell_type": "code",
      "execution_count": 7,
      "metadata": {
        "id": "c5wRX50GlFx3"
      },
      "outputs": [],
      "source": [
        "# from IPython.display import clear_output\n",
        "# !pip install ftfy regex tqdm\n",
        "# !pip install git+https://github.com/openai/CLIP.git\n",
        "# !pip install scipy\n",
        "# clear_output()"
      ]
    },
    {
      "cell_type": "code",
      "execution_count": 1,
      "metadata": {},
      "outputs": [
        {
          "name": "stderr",
          "output_type": "stream",
          "text": [
            "/home/nhattuong/anaconda3/envs/clip/lib/python3.8/site-packages/tqdm/auto.py:22: TqdmWarning: IProgress not found. Please update jupyter and ipywidgets. See https://ipywidgets.readthedocs.io/en/stable/user_install.html\n",
            "  from .autonotebook import tqdm as notebook_tqdm\n"
          ]
        }
      ],
      "source": [
        "import torch\n",
        "import clip\n",
        "from PIL import Image\n",
        "import numpy as np\n",
        "import glob\n",
        "import math\n",
        "from scipy import spatial\n",
        "import os"
      ]
    },
    {
      "cell_type": "markdown",
      "metadata": {
        "id": "ADnML4AszIyB"
      },
      "source": [
        "## Check Features"
      ]
    },
    {
      "cell_type": "code",
      "execution_count": 3,
      "metadata": {},
      "outputs": [],
      "source": [
        "def calculate_cosine_distance(a, b):\n",
        "    cosine_distance = float(spatial.distance.cosine(a, b))\n",
        "    return cosine_distance\n",
        "\n",
        "def calculate_cosine_similarity(a, b):\n",
        "    cosine_similarity = 1 - calculate_cosine_distance(a, b)\n",
        "    return cosine_similarity"
      ]
    },
    {
      "cell_type": "code",
      "execution_count": 43,
      "metadata": {
        "id": "ovovjpQ1ky_Y"
      },
      "outputs": [],
      "source": [
        "##### Load Model #####\n",
        "device = \"cuda\" if torch.cuda.is_available() else \"cpu\"\n",
        "model, preprocess = clip.load(\"ViT-B/16\", device=device)\n",
        "\n",
        "######### Load Features #########\n",
        "feats_path = '/home/hoangtv/Desktop/OS/ubuntu/Dataset_AIC2022/CLIPFeatures_C00_V00/C00_V0000.npy'\n",
        "feats = np.load(feats_path)\n",
        "##################################\n",
        "\n",
        "##################################\n",
        "distance = []\n",
        "re_feats = []\n",
        "\n",
        "keyframe_paths = glob.glob('/home/hoangtv/Desktop/OS/ubuntu/Dataset_AIC2022/KeyFramesC00_V00/C00_V0000/*.jpg')\n",
        "keyframe_paths = sorted(keyframe_paths, key=lambda x : x.split('/')[-1].replace('.jpg',''))\n",
        "\n",
        "for idx, keyframe_path in enumerate(keyframe_paths):\n",
        "  feats_idx = feats[idx].astype(np.float32)\n",
        "  image = preprocess(Image.open(keyframe_path)).unsqueeze(0).to(device)\n",
        "\n",
        "  with torch.no_grad():\n",
        "      image_feats = model.encode_image(image)\n",
        "\n",
        "  image_feats /= image_feats.norm(dim=-1, keepdim=True)\n",
        "  image_feats = image_feats.detach().cpu().numpy().astype(np.float32).flatten()\n",
        "\n",
        "  re_feats.append(image_feats)\n",
        "\n",
        "  # Tính similarity\n",
        "  score = calculate_cosine_similarity(image_feats, feats_idx)\n",
        "  distance.append(score)"
      ]
    },
    {
      "cell_type": "markdown",
      "metadata": {
        "id": "8hqr520pzK6w"
      },
      "source": [
        "## Re Features"
      ]
    },
    {
      "cell_type": "code",
      "execution_count": 4,
      "metadata": {
        "colab": {
          "background_save": true
        },
        "id": "FIMUxujxt_O4"
      },
      "outputs": [
        {
          "name": "stdout",
          "output_type": "stream",
          "text": [
            "cuda\n",
            "/media/nhattuong/Data/TranseNet/TransNet_Database/KeyFramesC02_V03/C02_V0300\n",
            "Skip: /media/nhattuong/Data/TranseNet/TransNet_Database/KeyFramesC02_V03/C02_V0300\n",
            "/media/nhattuong/Data/TranseNet/TransNet_Database/KeyFramesC02_V03/C02_V0301\n",
            "Skip: /media/nhattuong/Data/TranseNet/TransNet_Database/KeyFramesC02_V03/C02_V0301\n",
            "/media/nhattuong/Data/TranseNet/TransNet_Database/KeyFramesC02_V03/C02_V0302\n",
            "Skip: /media/nhattuong/Data/TranseNet/TransNet_Database/KeyFramesC02_V03/C02_V0302\n",
            "/media/nhattuong/Data/TranseNet/TransNet_Database/KeyFramesC02_V03/C02_V0303\n",
            "Skip: /media/nhattuong/Data/TranseNet/TransNet_Database/KeyFramesC02_V03/C02_V0303\n",
            "/media/nhattuong/Data/TranseNet/TransNet_Database/KeyFramesC02_V03/C02_V0304\n",
            "Skip: /media/nhattuong/Data/TranseNet/TransNet_Database/KeyFramesC02_V03/C02_V0304\n",
            "/media/nhattuong/Data/TranseNet/TransNet_Database/KeyFramesC02_V03/C02_V0305\n",
            "Skip: /media/nhattuong/Data/TranseNet/TransNet_Database/KeyFramesC02_V03/C02_V0305\n",
            "/media/nhattuong/Data/TranseNet/TransNet_Database/KeyFramesC02_V03/C02_V0306\n",
            "Skip: /media/nhattuong/Data/TranseNet/TransNet_Database/KeyFramesC02_V03/C02_V0306\n",
            "/media/nhattuong/Data/TranseNet/TransNet_Database/KeyFramesC02_V03/C02_V0307\n",
            "Skip: /media/nhattuong/Data/TranseNet/TransNet_Database/KeyFramesC02_V03/C02_V0307\n",
            "/media/nhattuong/Data/TranseNet/TransNet_Database/KeyFramesC02_V03/C02_V0308\n",
            "Skip: /media/nhattuong/Data/TranseNet/TransNet_Database/KeyFramesC02_V03/C02_V0308\n",
            "/media/nhattuong/Data/TranseNet/TransNet_Database/KeyFramesC02_V03/C02_V0309\n",
            "Skip: /media/nhattuong/Data/TranseNet/TransNet_Database/KeyFramesC02_V03/C02_V0309\n",
            "/media/nhattuong/Data/TranseNet/TransNet_Database/KeyFramesC02_V03/C02_V0310\n",
            "Skip: /media/nhattuong/Data/TranseNet/TransNet_Database/KeyFramesC02_V03/C02_V0310\n",
            "/media/nhattuong/Data/TranseNet/TransNet_Database/KeyFramesC02_V03/C02_V0311\n",
            "Skip: /media/nhattuong/Data/TranseNet/TransNet_Database/KeyFramesC02_V03/C02_V0311\n",
            "/media/nhattuong/Data/TranseNet/TransNet_Database/KeyFramesC02_V03/C02_V0312\n",
            "Skip: /media/nhattuong/Data/TranseNet/TransNet_Database/KeyFramesC02_V03/C02_V0312\n",
            "/media/nhattuong/Data/TranseNet/TransNet_Database/KeyFramesC02_V03/C02_V0313\n",
            "Skip: /media/nhattuong/Data/TranseNet/TransNet_Database/KeyFramesC02_V03/C02_V0313\n",
            "/media/nhattuong/Data/TranseNet/TransNet_Database/KeyFramesC02_V03/C02_V0314\n",
            "Skip: /media/nhattuong/Data/TranseNet/TransNet_Database/KeyFramesC02_V03/C02_V0314\n",
            "/media/nhattuong/Data/TranseNet/TransNet_Database/KeyFramesC02_V03/C02_V0315\n",
            "Skip: /media/nhattuong/Data/TranseNet/TransNet_Database/KeyFramesC02_V03/C02_V0315\n",
            "/media/nhattuong/Data/TranseNet/TransNet_Database/KeyFramesC02_V03/C02_V0316\n",
            "Skip: /media/nhattuong/Data/TranseNet/TransNet_Database/KeyFramesC02_V03/C02_V0316\n",
            "/media/nhattuong/Data/TranseNet/TransNet_Database/KeyFramesC02_V03/C02_V0317\n",
            "Skip: /media/nhattuong/Data/TranseNet/TransNet_Database/KeyFramesC02_V03/C02_V0317\n",
            "/media/nhattuong/Data/TranseNet/TransNet_Database/KeyFramesC02_V03/C02_V0318\n",
            "Skip: /media/nhattuong/Data/TranseNet/TransNet_Database/KeyFramesC02_V03/C02_V0318\n",
            "/media/nhattuong/Data/TranseNet/TransNet_Database/KeyFramesC02_V03/C02_V0319\n",
            "Skip: /media/nhattuong/Data/TranseNet/TransNet_Database/KeyFramesC02_V03/C02_V0319\n",
            "/media/nhattuong/Data/TranseNet/TransNet_Database/KeyFramesC02_V03/C02_V0320\n",
            "Skip: /media/nhattuong/Data/TranseNet/TransNet_Database/KeyFramesC02_V03/C02_V0320\n",
            "/media/nhattuong/Data/TranseNet/TransNet_Database/KeyFramesC02_V03/C02_V0321\n",
            "Skip: /media/nhattuong/Data/TranseNet/TransNet_Database/KeyFramesC02_V03/C02_V0321\n",
            "/media/nhattuong/Data/TranseNet/TransNet_Database/KeyFramesC02_V03/C02_V0322\n",
            "Skip: /media/nhattuong/Data/TranseNet/TransNet_Database/KeyFramesC02_V03/C02_V0322\n",
            "/media/nhattuong/Data/TranseNet/TransNet_Database/KeyFramesC02_V03/C02_V0323\n",
            "Skip: /media/nhattuong/Data/TranseNet/TransNet_Database/KeyFramesC02_V03/C02_V0323\n",
            "/media/nhattuong/Data/TranseNet/TransNet_Database/KeyFramesC02_V03/C02_V0324\n",
            "Skip: /media/nhattuong/Data/TranseNet/TransNet_Database/KeyFramesC02_V03/C02_V0324\n",
            "/media/nhattuong/Data/TranseNet/TransNet_Database/KeyFramesC02_V03/C02_V0325\n",
            "Skip: /media/nhattuong/Data/TranseNet/TransNet_Database/KeyFramesC02_V03/C02_V0325\n",
            "/media/nhattuong/Data/TranseNet/TransNet_Database/KeyFramesC02_V03/C02_V0326\n",
            "Skip: /media/nhattuong/Data/TranseNet/TransNet_Database/KeyFramesC02_V03/C02_V0326\n",
            "/media/nhattuong/Data/TranseNet/TransNet_Database/KeyFramesC02_V03/C02_V0327\n",
            "Skip: /media/nhattuong/Data/TranseNet/TransNet_Database/KeyFramesC02_V03/C02_V0327\n",
            "/media/nhattuong/Data/TranseNet/TransNet_Database/KeyFramesC02_V03/C02_V0328\n",
            "Skip: /media/nhattuong/Data/TranseNet/TransNet_Database/KeyFramesC02_V03/C02_V0328\n",
            "/media/nhattuong/Data/TranseNet/TransNet_Database/KeyFramesC02_V03/C02_V0329\n",
            "Skip: /media/nhattuong/Data/TranseNet/TransNet_Database/KeyFramesC02_V03/C02_V0329\n",
            "/media/nhattuong/Data/TranseNet/TransNet_Database/KeyFramesC02_V03/C02_V0330\n",
            "Skip: /media/nhattuong/Data/TranseNet/TransNet_Database/KeyFramesC02_V03/C02_V0330\n",
            "/media/nhattuong/Data/TranseNet/TransNet_Database/KeyFramesC02_V03/C02_V0331\n",
            "Skip: /media/nhattuong/Data/TranseNet/TransNet_Database/KeyFramesC02_V03/C02_V0331\n",
            "/media/nhattuong/Data/TranseNet/TransNet_Database/KeyFramesC02_V03/C02_V0332\n",
            "Skip: /media/nhattuong/Data/TranseNet/TransNet_Database/KeyFramesC02_V03/C02_V0332\n",
            "/media/nhattuong/Data/TranseNet/TransNet_Database/KeyFramesC02_V03/C02_V0333\n",
            "Skip: /media/nhattuong/Data/TranseNet/TransNet_Database/KeyFramesC02_V03/C02_V0333\n",
            "/media/nhattuong/Data/TranseNet/TransNet_Database/KeyFramesC02_V03/C02_V0334\n",
            "Skip: /media/nhattuong/Data/TranseNet/TransNet_Database/KeyFramesC02_V03/C02_V0334\n",
            "/media/nhattuong/Data/TranseNet/TransNet_Database/KeyFramesC02_V03/C02_V0335\n",
            "Skip: /media/nhattuong/Data/TranseNet/TransNet_Database/KeyFramesC02_V03/C02_V0335\n",
            "/media/nhattuong/Data/TranseNet/TransNet_Database/KeyFramesC02_V03/C02_V0336\n",
            "Skip: /media/nhattuong/Data/TranseNet/TransNet_Database/KeyFramesC02_V03/C02_V0336\n",
            "/media/nhattuong/Data/TranseNet/TransNet_Database/KeyFramesC02_V03/C02_V0337\n",
            "Skip: /media/nhattuong/Data/TranseNet/TransNet_Database/KeyFramesC02_V03/C02_V0337\n",
            "/media/nhattuong/Data/TranseNet/TransNet_Database/KeyFramesC02_V03/C02_V0338\n",
            "Skip: /media/nhattuong/Data/TranseNet/TransNet_Database/KeyFramesC02_V03/C02_V0338\n",
            "/media/nhattuong/Data/TranseNet/TransNet_Database/KeyFramesC02_V03/C02_V0339\n",
            "Skip: /media/nhattuong/Data/TranseNet/TransNet_Database/KeyFramesC02_V03/C02_V0339\n",
            "/media/nhattuong/Data/TranseNet/TransNet_Database/KeyFramesC02_V03/C02_V0340\n",
            "Skip: /media/nhattuong/Data/TranseNet/TransNet_Database/KeyFramesC02_V03/C02_V0340\n",
            "/media/nhattuong/Data/TranseNet/TransNet_Database/KeyFramesC02_V03/C02_V0341\n",
            "Skip: /media/nhattuong/Data/TranseNet/TransNet_Database/KeyFramesC02_V03/C02_V0341\n",
            "/media/nhattuong/Data/TranseNet/TransNet_Database/KeyFramesC02_V03/C02_V0342\n",
            "Skip: /media/nhattuong/Data/TranseNet/TransNet_Database/KeyFramesC02_V03/C02_V0342\n",
            "/media/nhattuong/Data/TranseNet/TransNet_Database/KeyFramesC02_V03/C02_V0343\n",
            "Skip: /media/nhattuong/Data/TranseNet/TransNet_Database/KeyFramesC02_V03/C02_V0343\n",
            "/media/nhattuong/Data/TranseNet/TransNet_Database/KeyFramesC02_V03/C02_V0344\n",
            "Skip: /media/nhattuong/Data/TranseNet/TransNet_Database/KeyFramesC02_V03/C02_V0344\n",
            "/media/nhattuong/Data/TranseNet/TransNet_Database/KeyFramesC02_V03/C02_V0345\n",
            "Skip: /media/nhattuong/Data/TranseNet/TransNet_Database/KeyFramesC02_V03/C02_V0345\n",
            "/media/nhattuong/Data/TranseNet/TransNet_Database/KeyFramesC02_V03/C02_V0346\n",
            "Skip: /media/nhattuong/Data/TranseNet/TransNet_Database/KeyFramesC02_V03/C02_V0346\n",
            "/media/nhattuong/Data/TranseNet/TransNet_Database/KeyFramesC02_V03/C02_V0347\n",
            "Skip: /media/nhattuong/Data/TranseNet/TransNet_Database/KeyFramesC02_V03/C02_V0347\n",
            "/media/nhattuong/Data/TranseNet/TransNet_Database/KeyFramesC02_V03/C02_V0348\n",
            "Skip: /media/nhattuong/Data/TranseNet/TransNet_Database/KeyFramesC02_V03/C02_V0348\n",
            "/media/nhattuong/Data/TranseNet/TransNet_Database/KeyFramesC02_V03/C02_V0349\n",
            "Skip: /media/nhattuong/Data/TranseNet/TransNet_Database/KeyFramesC02_V03/C02_V0349\n",
            "/media/nhattuong/Data/TranseNet/TransNet_Database/KeyFramesC02_V03/C02_V0350\n",
            "/media/nhattuong/Data/TranseNet/TransNet_Database/KeyFramesC02_V03/C02_V0351\n",
            "/media/nhattuong/Data/TranseNet/TransNet_Database/KeyFramesC02_V03/C02_V0352\n",
            "/media/nhattuong/Data/TranseNet/TransNet_Database/KeyFramesC02_V03/C02_V0353\n",
            "/media/nhattuong/Data/TranseNet/TransNet_Database/KeyFramesC02_V03/C02_V0354\n",
            "/media/nhattuong/Data/TranseNet/TransNet_Database/KeyFramesC02_V03/C02_V0355\n",
            "/media/nhattuong/Data/TranseNet/TransNet_Database/KeyFramesC02_V03/C02_V0356\n",
            "/media/nhattuong/Data/TranseNet/TransNet_Database/KeyFramesC02_V03/C02_V0357\n",
            "/media/nhattuong/Data/TranseNet/TransNet_Database/KeyFramesC02_V03/C02_V0358\n",
            "/media/nhattuong/Data/TranseNet/TransNet_Database/KeyFramesC02_V03/C02_V0359\n",
            "/media/nhattuong/Data/TranseNet/TransNet_Database/KeyFramesC02_V03/C02_V0360\n",
            "/media/nhattuong/Data/TranseNet/TransNet_Database/KeyFramesC02_V03/C02_V0361\n",
            "/media/nhattuong/Data/TranseNet/TransNet_Database/KeyFramesC02_V03/C02_V0362\n",
            "/media/nhattuong/Data/TranseNet/TransNet_Database/KeyFramesC02_V03/C02_V0363\n",
            "/media/nhattuong/Data/TranseNet/TransNet_Database/KeyFramesC02_V03/C02_V0364\n",
            "/media/nhattuong/Data/TranseNet/TransNet_Database/KeyFramesC02_V03/C02_V0365\n",
            "/media/nhattuong/Data/TranseNet/TransNet_Database/KeyFramesC02_V03/C02_V0366\n",
            "/media/nhattuong/Data/TranseNet/TransNet_Database/KeyFramesC02_V03/C02_V0367\n",
            "/media/nhattuong/Data/TranseNet/TransNet_Database/KeyFramesC02_V03/C02_V0368\n",
            "/media/nhattuong/Data/TranseNet/TransNet_Database/KeyFramesC02_V03/C02_V0369\n",
            "/media/nhattuong/Data/TranseNet/TransNet_Database/KeyFramesC02_V03/C02_V0370\n",
            "/media/nhattuong/Data/TranseNet/TransNet_Database/KeyFramesC02_V03/C02_V0371\n",
            "/media/nhattuong/Data/TranseNet/TransNet_Database/KeyFramesC02_V03/C02_V0372\n",
            "/media/nhattuong/Data/TranseNet/TransNet_Database/KeyFramesC02_V03/C02_V0373\n",
            "/media/nhattuong/Data/TranseNet/TransNet_Database/KeyFramesC02_V03/C02_V0374\n",
            "/media/nhattuong/Data/TranseNet/TransNet_Database/KeyFramesC02_V03/C02_V0375\n",
            "/media/nhattuong/Data/TranseNet/TransNet_Database/KeyFramesC02_V03/C02_V0376\n",
            "/media/nhattuong/Data/TranseNet/TransNet_Database/KeyFramesC02_V03/C02_V0377\n",
            "/media/nhattuong/Data/TranseNet/TransNet_Database/KeyFramesC02_V03/C02_V0378\n"
          ]
        }
      ],
      "source": [
        "##### Load Model #####\n",
        "device = \"cuda\" if torch.cuda.is_available() else \"cpu\"\n",
        "print(device)\n",
        "model, preprocess = clip.load(\"ViT-B/16\", device=device)\n",
        "\n",
        "################# Config Folder #################\n",
        "des_path = '/media/nhattuong/Data/Exact_CLIP_Features/CLIP_Features/CLIPFeatures_C02_V03/'\n",
        "paths = '/media/nhattuong/Data/TranseNet/TransNet_Database/KeyFramesC02_V03'\n",
        "#################################################\n",
        "\n",
        "video_paths = sorted(glob.glob(f\"{paths}/*/\"))\n",
        "video_paths = ['/'.join(i.split('/')[:-1]) for i in video_paths]\n",
        "\n",
        "# os.makedirs(des_path, exist_ok=True)\n",
        "\n",
        "for vd_path in video_paths:\n",
        "  print(vd_path)\n",
        "  # check_file = int(vd_path.split('/')[-1].replace('C02_V',''))\n",
        "  # if check_file <= 349:\n",
        "  #   print(f\"Skip: {vd_path}\")\n",
        "  #   continue\n",
        "\n",
        "  re_feats = []\n",
        "  keyframe_paths = glob.glob(f'{vd_path}/*.jpg')\n",
        "  keyframe_paths = sorted(keyframe_paths, key=lambda x : x.split('/')[-1].replace('.jpg',''))\n",
        "\n",
        "  for keyframe_path in keyframe_paths:\n",
        "    image = preprocess(Image.open(keyframe_path)).unsqueeze(0).to(device)\n",
        "\n",
        "    with torch.no_grad():\n",
        "        image_feats = model.encode_image(image)\n",
        "\n",
        "    image_feats /= image_feats.norm(dim=-1, keepdim=True)\n",
        "    image_feats = image_feats.detach().cpu().numpy().astype(np.float16).flatten() \n",
        "\n",
        "    re_feats.append(image_feats)\n",
        "\n",
        "  name_npy = vd_path.split('/')[-1]\n",
        "  outfile = f'{des_path}/{name_npy}.npy'\n",
        "  np.save(outfile, re_feats)"
      ]
    }
  ],
  "metadata": {
    "colab": {
      "collapsed_sections": [],
      "provenance": []
    },
    "kernelspec": {
      "display_name": "Python 3.8.0 64-bit",
      "language": "python",
      "name": "python3"
    },
    "language_info": {
      "codemirror_mode": {
        "name": "ipython",
        "version": 3
      },
      "file_extension": ".py",
      "mimetype": "text/x-python",
      "name": "python",
      "nbconvert_exporter": "python",
      "pygments_lexer": "ipython3",
      "version": "3.8.0"
    },
    "vscode": {
      "interpreter": {
        "hash": "3c040059c337deb504f19c673fdcf9a2751b584394b1f9883eb09580a791bf0c"
      }
    }
  },
  "nbformat": 4,
  "nbformat_minor": 0
}
