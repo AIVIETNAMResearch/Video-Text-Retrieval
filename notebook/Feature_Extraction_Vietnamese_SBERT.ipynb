{
  "nbformat": 4,
  "nbformat_minor": 0,
  "metadata": {
    "colab": {
      "provenance": [],
      "collapsed_sections": []
    },
    "kernelspec": {
      "name": "python3",
      "display_name": "Python 3"
    },
    "accelerator": "GPU"
  },
  "cells": [
    {
      "cell_type": "markdown",
      "metadata": {
        "id": "WEEPBuxRy05r"
      },
      "source": [
        "# Install dependencies"
      ]
    },
    {
      "cell_type": "code",
      "source": [
        "%pip install -U --no-cache-dir gdown --pre"
      ],
      "metadata": {
        "colab": {
          "base_uri": "https://localhost:8080/"
        },
        "id": "OIHnUEu6bePJ",
        "outputId": "0ea42505-e653-40b0-c0cf-d4f723af1d92"
      },
      "execution_count": 1,
      "outputs": [
        {
          "output_type": "stream",
          "name": "stdout",
          "text": [
            "Looking in indexes: https://pypi.org/simple, https://us-python.pkg.dev/colab-wheels/public/simple/\n",
            "Requirement already satisfied: gdown in /usr/local/lib/python3.7/dist-packages (4.4.0)\n",
            "Collecting gdown\n",
            "  Downloading gdown-4.5.1.tar.gz (14 kB)\n",
            "  Installing build dependencies ... \u001b[?25l\u001b[?25hdone\n",
            "  Getting requirements to build wheel ... \u001b[?25l\u001b[?25hdone\n",
            "    Preparing wheel metadata ... \u001b[?25l\u001b[?25hdone\n",
            "Requirement already satisfied: tqdm in /usr/local/lib/python3.7/dist-packages (from gdown) (4.64.1)\n",
            "Requirement already satisfied: requests[socks] in /usr/local/lib/python3.7/dist-packages (from gdown) (2.23.0)\n",
            "Requirement already satisfied: beautifulsoup4 in /usr/local/lib/python3.7/dist-packages (from gdown) (4.6.3)\n",
            "Requirement already satisfied: six in /usr/local/lib/python3.7/dist-packages (from gdown) (1.15.0)\n",
            "Requirement already satisfied: filelock in /usr/local/lib/python3.7/dist-packages (from gdown) (3.8.0)\n",
            "Requirement already satisfied: idna<3,>=2.5 in /usr/local/lib/python3.7/dist-packages (from requests[socks]->gdown) (2.10)\n",
            "Requirement already satisfied: chardet<4,>=3.0.2 in /usr/local/lib/python3.7/dist-packages (from requests[socks]->gdown) (3.0.4)\n",
            "Requirement already satisfied: urllib3!=1.25.0,!=1.25.1,<1.26,>=1.21.1 in /usr/local/lib/python3.7/dist-packages (from requests[socks]->gdown) (1.24.3)\n",
            "Requirement already satisfied: certifi>=2017.4.17 in /usr/local/lib/python3.7/dist-packages (from requests[socks]->gdown) (2022.9.24)\n",
            "Requirement already satisfied: PySocks!=1.5.7,>=1.5.6 in /usr/local/lib/python3.7/dist-packages (from requests[socks]->gdown) (1.7.1)\n",
            "Building wheels for collected packages: gdown\n",
            "  Building wheel for gdown (PEP 517) ... \u001b[?25l\u001b[?25hdone\n",
            "  Created wheel for gdown: filename=gdown-4.5.1-py3-none-any.whl size=14951 sha256=381d27f43d798a50556fbf4ebb2ecb1021522489cb2595efa519302afc8dd1c1\n",
            "  Stored in directory: /tmp/pip-ephem-wheel-cache-r0mq3n36/wheels/3d/ec/b0/a96d1d126183f98570a785e6bf8789fca559853a9260e928e1\n",
            "Successfully built gdown\n",
            "Installing collected packages: gdown\n",
            "  Attempting uninstall: gdown\n",
            "    Found existing installation: gdown 4.4.0\n",
            "    Uninstalling gdown-4.4.0:\n",
            "      Successfully uninstalled gdown-4.4.0\n",
            "Successfully installed gdown-4.5.1\n"
          ]
        }
      ]
    },
    {
      "cell_type": "code",
      "metadata": {
        "id": "n_qm91VKvBSF",
        "colab": {
          "base_uri": "https://localhost:8080/"
        },
        "outputId": "39feee33-ab36-4092-c69d-e69cee27bf65"
      },
      "source": [
        "%cd /content\n",
        "!gdown https://drive.google.com/a/gm.uit.edu.vn/uc?id=1pXJZ9eHp6DWkQ5MhCzmWYsKyLQEDiodz&export=download\n",
        "!tar xzf /content/vn_sbert_deploy.tar.gz"
      ],
      "execution_count": 2,
      "outputs": [
        {
          "output_type": "stream",
          "name": "stdout",
          "text": [
            "/content\n",
            "Downloading...\n",
            "From: https://drive.google.com/a/gm.uit.edu.vn/uc?id=1pXJZ9eHp6DWkQ5MhCzmWYsKyLQEDiodz\n",
            "To: /content/vn_sbert_deploy.tar.gz\n",
            "100% 485M/485M [00:08<00:00, 57.5MB/s]\n"
          ]
        }
      ]
    },
    {
      "cell_type": "code",
      "metadata": {
        "id": "zeAA_X-fyw6-",
        "colab": {
          "base_uri": "https://localhost:8080/"
        },
        "outputId": "c5c72786-7554-456f-dd56-276fa9ab018b"
      },
      "source": [
        "!pip -q install transformers\n",
        "!pip -q install vncorenlp\n",
        "!pip -q install fairseq\n",
        "!pip -q install fastBPE"
      ],
      "execution_count": 3,
      "outputs": [
        {
          "output_type": "stream",
          "name": "stdout",
          "text": [
            "\u001b[K     |████████████████████████████████| 5.3 MB 2.2 MB/s \n",
            "\u001b[K     |████████████████████████████████| 163 kB 66.6 MB/s \n",
            "\u001b[K     |████████████████████████████████| 7.6 MB 44.9 MB/s \n",
            "\u001b[K     |████████████████████████████████| 2.6 MB 2.1 MB/s \n",
            "\u001b[?25h  Building wheel for vncorenlp (setup.py) ... \u001b[?25l\u001b[?25hdone\n",
            "\u001b[K     |████████████████████████████████| 11.0 MB 2.0 MB/s \n",
            "\u001b[K     |████████████████████████████████| 123 kB 42.4 MB/s \n",
            "\u001b[K     |████████████████████████████████| 235 kB 57.3 MB/s \n",
            "\u001b[K     |████████████████████████████████| 116 kB 54.2 MB/s \n",
            "\u001b[K     |████████████████████████████████| 112 kB 65.7 MB/s \n",
            "\u001b[?25h  Building wheel for antlr4-python3-runtime (setup.py) ... \u001b[?25l\u001b[?25hdone\n",
            "  Building wheel for fastBPE (setup.py) ... \u001b[?25l\u001b[?25hdone\n"
          ]
        }
      ]
    },
    {
      "cell_type": "markdown",
      "metadata": {
        "id": "AOCB9rvGy71q"
      },
      "source": [
        "## Download word segmenter"
      ]
    },
    {
      "cell_type": "code",
      "metadata": {
        "id": "R5Tv1mHCy_kF",
        "colab": {
          "base_uri": "https://localhost:8080/"
        },
        "outputId": "19527f5e-9476-47cf-e13a-e0805ccce284"
      },
      "source": [
        "!mkdir -p vncorenlp/models/wordsegmenter\n",
        "!wget -q --show-progress https://raw.githubusercontent.com/vncorenlp/VnCoreNLP/master/VnCoreNLP-1.1.1.jar\n",
        "!wget -q --show-progress https://raw.githubusercontent.com/vncorenlp/VnCoreNLP/master/models/wordsegmenter/vi-vocab\n",
        "!wget -q --show-progress https://raw.githubusercontent.com/vncorenlp/VnCoreNLP/master/models/wordsegmenter/wordsegmenter.rdr\n",
        "!mv VnCoreNLP-1.1.1.jar vncorenlp/ \n",
        "!mv vi-vocab vncorenlp/models/wordsegmenter/\n",
        "!mv wordsegmenter.rdr vncorenlp/models/wordsegmenter/"
      ],
      "execution_count": 4,
      "outputs": [
        {
          "output_type": "stream",
          "name": "stdout",
          "text": [
            "VnCoreNLP-1.1.1.jar 100%[===================>]  26.14M  72.4MB/s    in 0.4s    \n",
            "vi-vocab            100%[===================>] 514.20K  --.-KB/s    in 0.09s   \n",
            "wordsegmenter.rdr   100%[===================>] 125.50K  --.-KB/s    in 0.05s   \n"
          ]
        }
      ]
    },
    {
      "cell_type": "markdown",
      "metadata": {
        "id": "eEmNBMmNzDRC"
      },
      "source": [
        "## Install Vietnamese SBERT"
      ]
    },
    {
      "cell_type": "code",
      "metadata": {
        "id": "9E9lNCnqzGLc",
        "colab": {
          "base_uri": "https://localhost:8080/"
        },
        "outputId": "e5d3975f-d704-492a-e763-a3b16fc96fef"
      },
      "source": [
        "!git clone https://github.com/DatCanCode/sentence-transformers\n",
        "!cd sentence-transformers; pip install -e ."
      ],
      "execution_count": 5,
      "outputs": [
        {
          "output_type": "stream",
          "name": "stdout",
          "text": [
            "Cloning into 'sentence-transformers'...\n",
            "remote: Enumerating objects: 1200, done.\u001b[K\n",
            "remote: Total 1200 (delta 0), reused 0 (delta 0), pack-reused 1200\u001b[K\n",
            "Receiving objects: 100% (1200/1200), 30.67 MiB | 18.96 MiB/s, done.\n",
            "Resolving deltas: 100% (820/820), done.\n",
            "Looking in indexes: https://pypi.org/simple, https://us-python.pkg.dev/colab-wheels/public/simple/\n",
            "Obtaining file:///content/sentence-transformers\n",
            "Requirement already satisfied: transformers>=2.8.0 in /usr/local/lib/python3.7/dist-packages (from sentence-transformers==0.2.6.1) (4.23.1)\n",
            "Requirement already satisfied: tqdm in /usr/local/lib/python3.7/dist-packages (from sentence-transformers==0.2.6.1) (4.64.1)\n",
            "Requirement already satisfied: torch>=1.0.1 in /usr/local/lib/python3.7/dist-packages (from sentence-transformers==0.2.6.1) (1.12.1+cu113)\n",
            "Requirement already satisfied: numpy in /usr/local/lib/python3.7/dist-packages (from sentence-transformers==0.2.6.1) (1.21.6)\n",
            "Requirement already satisfied: scikit-learn in /usr/local/lib/python3.7/dist-packages (from sentence-transformers==0.2.6.1) (1.0.2)\n",
            "Requirement already satisfied: scipy in /usr/local/lib/python3.7/dist-packages (from sentence-transformers==0.2.6.1) (1.7.3)\n",
            "Requirement already satisfied: nltk in /usr/local/lib/python3.7/dist-packages (from sentence-transformers==0.2.6.1) (3.7)\n",
            "Requirement already satisfied: typing-extensions in /usr/local/lib/python3.7/dist-packages (from torch>=1.0.1->sentence-transformers==0.2.6.1) (4.1.1)\n",
            "Requirement already satisfied: importlib-metadata in /usr/local/lib/python3.7/dist-packages (from transformers>=2.8.0->sentence-transformers==0.2.6.1) (5.0.0)\n",
            "Requirement already satisfied: pyyaml>=5.1 in /usr/local/lib/python3.7/dist-packages (from transformers>=2.8.0->sentence-transformers==0.2.6.1) (6.0)\n",
            "Requirement already satisfied: regex!=2019.12.17 in /usr/local/lib/python3.7/dist-packages (from transformers>=2.8.0->sentence-transformers==0.2.6.1) (2022.6.2)\n",
            "Requirement already satisfied: huggingface-hub<1.0,>=0.10.0 in /usr/local/lib/python3.7/dist-packages (from transformers>=2.8.0->sentence-transformers==0.2.6.1) (0.10.1)\n",
            "Requirement already satisfied: filelock in /usr/local/lib/python3.7/dist-packages (from transformers>=2.8.0->sentence-transformers==0.2.6.1) (3.8.0)\n",
            "Requirement already satisfied: packaging>=20.0 in /usr/local/lib/python3.7/dist-packages (from transformers>=2.8.0->sentence-transformers==0.2.6.1) (21.3)\n",
            "Requirement already satisfied: tokenizers!=0.11.3,<0.14,>=0.11.1 in /usr/local/lib/python3.7/dist-packages (from transformers>=2.8.0->sentence-transformers==0.2.6.1) (0.13.1)\n",
            "Requirement already satisfied: requests in /usr/local/lib/python3.7/dist-packages (from transformers>=2.8.0->sentence-transformers==0.2.6.1) (2.23.0)\n",
            "Requirement already satisfied: pyparsing!=3.0.5,>=2.0.2 in /usr/local/lib/python3.7/dist-packages (from packaging>=20.0->transformers>=2.8.0->sentence-transformers==0.2.6.1) (3.0.9)\n",
            "Requirement already satisfied: zipp>=0.5 in /usr/local/lib/python3.7/dist-packages (from importlib-metadata->transformers>=2.8.0->sentence-transformers==0.2.6.1) (3.8.1)\n",
            "Requirement already satisfied: click in /usr/local/lib/python3.7/dist-packages (from nltk->sentence-transformers==0.2.6.1) (7.1.2)\n",
            "Requirement already satisfied: joblib in /usr/local/lib/python3.7/dist-packages (from nltk->sentence-transformers==0.2.6.1) (1.2.0)\n",
            "Requirement already satisfied: idna<3,>=2.5 in /usr/local/lib/python3.7/dist-packages (from requests->transformers>=2.8.0->sentence-transformers==0.2.6.1) (2.10)\n",
            "Requirement already satisfied: certifi>=2017.4.17 in /usr/local/lib/python3.7/dist-packages (from requests->transformers>=2.8.0->sentence-transformers==0.2.6.1) (2022.9.24)\n",
            "Requirement already satisfied: urllib3!=1.25.0,!=1.25.1,<1.26,>=1.21.1 in /usr/local/lib/python3.7/dist-packages (from requests->transformers>=2.8.0->sentence-transformers==0.2.6.1) (1.24.3)\n",
            "Requirement already satisfied: chardet<4,>=3.0.2 in /usr/local/lib/python3.7/dist-packages (from requests->transformers>=2.8.0->sentence-transformers==0.2.6.1) (3.0.4)\n",
            "Requirement already satisfied: threadpoolctl>=2.0.0 in /usr/local/lib/python3.7/dist-packages (from scikit-learn->sentence-transformers==0.2.6.1) (3.1.0)\n",
            "Installing collected packages: sentence-transformers\n",
            "  Running setup.py develop for sentence-transformers\n",
            "Successfully installed sentence-transformers-0.2.6.1\n"
          ]
        }
      ]
    },
    {
      "cell_type": "markdown",
      "metadata": {
        "id": "13_p4wbMQT7W"
      },
      "source": [
        "Import and load model"
      ]
    },
    {
      "cell_type": "code",
      "metadata": {
        "id": "bBa-9p0CQee9",
        "colab": {
          "base_uri": "https://localhost:8080/"
        },
        "outputId": "3c83ba6f-f2f3-4e5e-e538-2c05ab65eb5b"
      },
      "source": [
        "%cd /content/sentence-transformers/\n",
        "from sentence_transformers import SentenceTransformer\n",
        "import numpy as np\n",
        "model = SentenceTransformer('/content/vn_sbert_deploy/phobert_base_mean_tokens_NLI_STS')"
      ],
      "execution_count": 7,
      "outputs": [
        {
          "output_type": "stream",
          "name": "stdout",
          "text": [
            "/content/sentence-transformers\n"
          ]
        }
      ]
    },
    {
      "cell_type": "markdown",
      "metadata": {
        "id": "f3wav6UBQNPk"
      },
      "source": [
        "## Get sentence embeddings"
      ]
    },
    {
      "cell_type": "code",
      "metadata": {
        "id": "0kGn2VlvQQ23",
        "colab": {
          "base_uri": "https://localhost:8080/"
        },
        "outputId": "bee42fe6-5027-4072-ae6f-a0c9c45cd2cc"
      },
      "source": [
        "\n",
        "corpus = ['Tiếp tục khẳng định nguồn cung xăng dầu được đảm bảo, lãnh đạo Bộ Công Thương cho hay sẽ có nhiều giải pháp để \\\n",
        "            tháo gỡ khó khăn cho doanh nghiệp kinh doanh xăng dầu nhằm đáp ứng nguồn cung',\n",
        "          'Theo dự kiến chương trình, Quốc hội sẽ tiến hành miễn nhiệm bộ trưởng Bộ Giao thông vận tải là ông Nguyễn Văn Thể.',\n",
        "           'Đồng thời sẽ bầu tổng Kiểm toán Nhà nước, phê chuẩn bổ nhiệm bộ trưởng Bộ Y tế, bộ trưởng Bộ Giao thông vận tải.']\n",
        "\n",
        "corpus_embeddings = model.encode(corpus)\n",
        "corpus_embeddings[0].shape"
      ],
      "execution_count": 14,
      "outputs": [
        {
          "output_type": "execute_result",
          "data": {
            "text/plain": [
              "(768,)"
            ]
          },
          "metadata": {},
          "execution_count": 14
        }
      ]
    }
  ]
}