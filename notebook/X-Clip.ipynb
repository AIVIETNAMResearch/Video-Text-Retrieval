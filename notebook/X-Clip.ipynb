{
  "nbformat": 4,
  "nbformat_minor": 0,
  "metadata": {
    "colab": {
      "provenance": [],
      "collapsed_sections": [
        "rcoTJFN-jFu5",
        "MMRtG5EThOTy"
      ]
    },
    "kernelspec": {
      "name": "python3",
      "display_name": "Python 3"
    },
    "language_info": {
      "name": "python"
    },
    "accelerator": "GPU"
  },
  "cells": [
    {
      "cell_type": "code",
      "source": [
        "from google.colab import drive\n",
        "drive.mount('/content/drive')"
      ],
      "metadata": {
        "colab": {
          "base_uri": "https://localhost:8080/"
        },
        "id": "tw1uJfAAY93K",
        "outputId": "c56770a1-c698-4b25-9d46-b26362a0d863"
      },
      "execution_count": 4,
      "outputs": [
        {
          "output_type": "stream",
          "name": "stdout",
          "text": [
            "Drive already mounted at /content/drive; to attempt to forcibly remount, call drive.mount(\"/content/drive\", force_remount=True).\n"
          ]
        }
      ]
    },
    {
      "cell_type": "code",
      "source": [
        "# %cd /content/drive/MyDrive/Video_Retrieval\n",
        "# !git clone https://github.com/xuguohai/X-CLIP.git\n",
        "\n",
        "from IPython.display import clear_output\n",
        "%cd /content/drive/MyDrive/Video_Retrieval/X-CLIP\n",
        "!pip install -r requirements.txt\n",
        "clear_output()"
      ],
      "metadata": {
        "id": "hZosEKTmZyjc"
      },
      "execution_count": 1,
      "outputs": []
    },
    {
      "cell_type": "markdown",
      "source": [
        "## Downloads Dataset"
      ],
      "metadata": {
        "id": "ProM_vBahJCT"
      }
    },
    {
      "cell_type": "markdown",
      "source": [
        "### MSR-VTT"
      ],
      "metadata": {
        "id": "rcoTJFN-jFu5"
      }
    },
    {
      "cell_type": "code",
      "source": [
        "# from IPython.display import clear_output\n",
        "# %cd /content/drive/MyDrive/Video_Retrieval/Dataset\n",
        "# !wget https://github.com/ArrowLuo/CLIP4Clip/releases/download/v0.0/msrvtt_data.zip\n",
        "# !wget https://www.robots.ox.ac.uk/~maxbain/frozen-in-time/data/MSRVTT.zip\n",
        "# !unzip /content/drive/MyDrive/Video_Retrieval/Dataset/MSRVTT.zip\n",
        "# !unzip /content/drive/MyDrive/Video_Retrieval/Dataset/msrvtt_data.zip\n",
        "# clear_output()"
      ],
      "metadata": {
        "id": "eyxsC9PCZ6Oi"
      },
      "execution_count": 6,
      "outputs": []
    },
    {
      "cell_type": "markdown",
      "source": [
        "## Download pretrain"
      ],
      "metadata": {
        "id": "MMRtG5EThOTy"
      }
    },
    {
      "cell_type": "code",
      "source": [
        "# %cd /content/drive/MyDrive/Video_Retrieval/X-CLIP\n",
        "# # download CLIP（ViT-B/32） weight\n",
        "# !wget -P ./modules https://openaipublic.azureedge.net/clip/models/40d365715913c9da98579312b702a82c18be219cc2a73407c4526f58eba950af/ViT-B-32.pt\n",
        "\n",
        "# # download CLIP（ViT-B/16） weight\n",
        "# !wget -P ./modules https://openaipublic.azureedge.net/clip/models/5806e77cd80f8b59890b7e101eabd078d9fb84e6937f9e85e4ecb61988df416f/ViT-B-16.pt"
      ],
      "metadata": {
        "colab": {
          "base_uri": "https://localhost:8080/"
        },
        "id": "3ChBt8hFd085",
        "outputId": "3fcae75c-63c2-4a77-ba04-3530158d226f"
      },
      "execution_count": null,
      "outputs": [
        {
          "output_type": "stream",
          "name": "stdout",
          "text": [
            "/content/drive/MyDrive/Video_Retrieval/X-CLIP\n",
            "--2022-09-23 03:51:37--  https://openaipublic.azureedge.net/clip/models/40d365715913c9da98579312b702a82c18be219cc2a73407c4526f58eba950af/ViT-B-32.pt\n",
            "Resolving openaipublic.azureedge.net (openaipublic.azureedge.net)... 13.107.246.40, 13.107.213.40, 2620:1ec:bdf::40, ...\n",
            "Connecting to openaipublic.azureedge.net (openaipublic.azureedge.net)|13.107.246.40|:443... connected.\n",
            "HTTP request sent, awaiting response... 200 OK\n",
            "Length: 353976522 (338M) [application/octet-stream]\n",
            "Saving to: ‘./modules/ViT-B-32.pt’\n",
            "\n",
            "ViT-B-32.pt         100%[===================>] 337.58M  40.0MB/s    in 7.7s    \n",
            "\n",
            "2022-09-23 03:51:45 (43.7 MB/s) - ‘./modules/ViT-B-32.pt’ saved [353976522/353976522]\n",
            "\n",
            "--2022-09-23 03:51:45--  https://openaipublic.azureedge.net/clip/models/5806e77cd80f8b59890b7e101eabd078d9fb84e6937f9e85e4ecb61988df416f/ViT-B-16.pt\n",
            "Resolving openaipublic.azureedge.net (openaipublic.azureedge.net)... 13.107.246.40, 13.107.213.40, 2620:1ec:bdf::40, ...\n",
            "Connecting to openaipublic.azureedge.net (openaipublic.azureedge.net)|13.107.246.40|:443... connected.\n",
            "HTTP request sent, awaiting response... 200 OK\n",
            "Length: 350837078 (335M) [application/octet-stream]\n",
            "Saving to: ‘./modules/ViT-B-16.pt’\n",
            "\n",
            "ViT-B-16.pt         100%[===================>] 334.58M  15.1MB/s    in 16s     \n",
            "\n",
            "2022-09-23 03:52:01 (20.4 MB/s) - ‘./modules/ViT-B-16.pt’ saved [350837078/350837078]\n",
            "\n"
          ]
        }
      ]
    },
    {
      "cell_type": "markdown",
      "source": [
        "## Training"
      ],
      "metadata": {
        "id": "5QrnhisOhVPL"
      }
    },
    {
      "cell_type": "code",
      "source": [
        "%cd /content/drive/MyDrive/Video_Retrieval/X-CLIP\n",
        "# ViT-B/16\n",
        "job_name=\"xclip_msrvtt_vit32\"\n",
        "# DATA_PATH=\"[Your MSRVTT data and videos path]\"\n",
        "!python -m torch.distributed.launch --nproc_per_node=1 \\\n",
        "    main_xclip.py --do_train --num_thread_reader=2 \\\n",
        "    --lr 1e-4 --batch_size=16  --batch_size_val 16 \\\n",
        "    --epochs=10  --n_display=1 \\\n",
        "    --train_csv /content/drive/MyDrive/Video_Retrieval/Dataset/msrvtt_data/MSRVTT_train.9k.csv \\\n",
        "    --val_csv /content/drive/MyDrive/Video_Retrieval/Dataset/msrvtt_data/MSRVTT_JSFUSION_test.csv \\\n",
        "    --data_path /content/drive/MyDrive/Video_Retrieval/Dataset/msrvtt_data/MSRVTT_data.json \\\n",
        "    --features_path /content/drive/MyDrive/Video_Retrieval/Dataset/MSRVTT/videos/all \\\n",
        "    --output_dir ckpts_dsw/${job_name} \\\n",
        "    --max_words 32 --max_frames 12 \\\n",
        "    --datatype msrvtt --expand_msrvtt_sentences  \\\n",
        "    --feature_framerate 1 --coef_lr 1e-3 \\\n",
        "    --freeze_layer_num 0  --slice_framepos 2 \\\n",
        "    --loose_type --linear_patch 2d --sim_header seqTransf \\\n",
        "    --pretrained_clip_name ViT-B/32 2>&1 | tee -a log/${job_name}"
      ],
      "metadata": {
        "colab": {
          "base_uri": "https://localhost:8080/"
        },
        "id": "P8Yt00CVegvs",
        "outputId": "62c38dd0-98a0-4037-87e2-59b9744e0668"
      },
      "execution_count": null,
      "outputs": [
        {
          "output_type": "stream",
          "name": "stdout",
          "text": [
            "/content/drive/MyDrive/Video_Retrieval/X-CLIP\n",
            "tee: log/: Is a directory\n",
            "09/23/2022 05:54:22 - INFO -   Effective parameters:\n",
            "09/23/2022 05:54:22 - INFO -     <<< batch_size: 16\n",
            "09/23/2022 05:54:22 - INFO -     <<< batch_size_val: 16\n",
            "09/23/2022 05:54:22 - INFO -     <<< cache_dir: \n",
            "09/23/2022 05:54:22 - INFO -     <<< coef_lr: 0.001\n",
            "09/23/2022 05:54:22 - INFO -     <<< cross_model: cross-base\n",
            "09/23/2022 05:54:22 - INFO -     <<< cross_num_hidden_layers: 4\n",
            "09/23/2022 05:54:22 - INFO -     <<< data_path: /content/drive/MyDrive/Video_Retrieval/Dataset/msrvtt_data/MSRVTT_data.json\n",
            "09/23/2022 05:54:22 - INFO -     <<< datatype: msrvtt\n",
            "09/23/2022 05:54:22 - INFO -     <<< do_eval: False\n",
            "09/23/2022 05:54:22 - INFO -     <<< do_lower_case: False\n",
            "09/23/2022 05:54:22 - INFO -     <<< do_pretrain: False\n",
            "09/23/2022 05:54:22 - INFO -     <<< do_train: True\n",
            "09/23/2022 05:54:22 - INFO -     <<< epochs: 10\n",
            "09/23/2022 05:54:22 - INFO -     <<< eval_frame_order: 0\n",
            "09/23/2022 05:54:22 - INFO -     <<< expand_msrvtt_sentences: True\n",
            "09/23/2022 05:54:22 - INFO -     <<< feature_framerate: 1\n",
            "09/23/2022 05:54:22 - INFO -     <<< features_path: /content/drive/MyDrive/Video_Retrieval/Dataset/MSRVTT/videos/all\n",
            "09/23/2022 05:54:22 - INFO -     <<< fp16: False\n",
            "09/23/2022 05:54:22 - INFO -     <<< fp16_opt_level: O1\n",
            "09/23/2022 05:54:22 - INFO -     <<< freeze_layer_num: 0\n",
            "09/23/2022 05:54:22 - INFO -     <<< gradient_accumulation_steps: 1\n",
            "09/23/2022 05:54:22 - INFO -     <<< hard_negative_rate: 0.5\n",
            "09/23/2022 05:54:22 - INFO -     <<< init_model: None\n",
            "09/23/2022 05:54:22 - INFO -     <<< linear_patch: 2d\n",
            "09/23/2022 05:54:22 - INFO -     <<< local_rank: 0\n",
            "09/23/2022 05:54:22 - INFO -     <<< loose_type: True\n",
            "09/23/2022 05:54:22 - INFO -     <<< lr: 0.0001\n",
            "09/23/2022 05:54:22 - INFO -     <<< lr_decay: 0.9\n",
            "09/23/2022 05:54:22 - INFO -     <<< margin: 0.1\n",
            "09/23/2022 05:54:22 - INFO -     <<< max_frames: 12\n",
            "09/23/2022 05:54:22 - INFO -     <<< max_words: 32\n",
            "09/23/2022 05:54:22 - INFO -     <<< n_display: 1\n",
            "09/23/2022 05:54:22 - INFO -     <<< n_gpu: 1\n",
            "09/23/2022 05:54:22 - INFO -     <<< n_pair: 1\n",
            "09/23/2022 05:54:22 - INFO -     <<< negative_weighting: 1\n",
            "09/23/2022 05:54:22 - INFO -     <<< num_thread_reader: 2\n",
            "09/23/2022 05:54:22 - INFO -     <<< output_dir: ckpts_dsw/\n",
            "09/23/2022 05:54:22 - INFO -     <<< pretrained_clip_name: ViT-B/32\n",
            "09/23/2022 05:54:22 - INFO -     <<< rank: 0\n",
            "09/23/2022 05:54:22 - INFO -     <<< resume_model: None\n",
            "09/23/2022 05:54:22 - INFO -     <<< sampled_use_mil: False\n",
            "09/23/2022 05:54:22 - INFO -     <<< seed: 42\n",
            "09/23/2022 05:54:22 - INFO -     <<< sim_header: seqTransf\n",
            "09/23/2022 05:54:22 - INFO -     <<< slice_framepos: 2\n",
            "09/23/2022 05:54:22 - INFO -     <<< task_type: retrieval\n",
            "09/23/2022 05:54:22 - INFO -     <<< text_num_hidden_layers: 12\n",
            "09/23/2022 05:54:22 - INFO -     <<< train_csv: /content/drive/MyDrive/Video_Retrieval/Dataset/msrvtt_data/MSRVTT_train.9k.csv\n",
            "09/23/2022 05:54:22 - INFO -     <<< train_frame_order: 0\n",
            "09/23/2022 05:54:22 - INFO -     <<< use_mil: False\n",
            "09/23/2022 05:54:22 - INFO -     <<< val_csv: /content/drive/MyDrive/Video_Retrieval/Dataset/msrvtt_data/MSRVTT_JSFUSION_test.csv\n",
            "09/23/2022 05:54:22 - INFO -     <<< video_dim: 1024\n",
            "09/23/2022 05:54:22 - INFO -     <<< visual_num_hidden_layers: 12\n",
            "09/23/2022 05:54:22 - INFO -     <<< warmup_proportion: 0.1\n",
            "09/23/2022 05:54:22 - INFO -     <<< world_size: 1\n",
            "09/23/2022 05:54:22 - INFO -   device: cuda:0 n_gpu: 1\n",
            "09/23/2022 05:54:24 - INFO -   loading archive file /content/drive/MyDrive/Video_Retrieval/X-CLIP/modules/cross-base\n",
            "09/23/2022 05:54:24 - INFO -   Model config {\n",
            "  \"attention_probs_dropout_prob\": 0.1,\n",
            "  \"hidden_act\": \"gelu\",\n",
            "  \"hidden_dropout_prob\": 0.1,\n",
            "  \"hidden_size\": 512,\n",
            "  \"initializer_range\": 0.02,\n",
            "  \"intermediate_size\": 2048,\n",
            "  \"max_position_embeddings\": 128,\n",
            "  \"num_attention_heads\": 8,\n",
            "  \"num_hidden_layers\": 4,\n",
            "  \"type_vocab_size\": 2,\n",
            "  \"vocab_size\": 512\n",
            "}\n",
            "\n",
            "09/23/2022 05:54:24 - INFO -   Weight doesn't exsits. /content/drive/MyDrive/Video_Retrieval/X-CLIP/modules/cross-base/cross_pytorch_model.bin\n",
            "09/23/2022 05:54:24 - WARNING -   Stage-One:True, Stage-Two:False\n",
            "09/23/2022 05:54:24 - WARNING -   Test retrieval by loose type.\n",
            "09/23/2022 05:54:24 - WARNING -   \t embed_dim: 512\n",
            "09/23/2022 05:54:24 - WARNING -   \t image_resolution: 224\n",
            "09/23/2022 05:54:24 - WARNING -   \t vision_layers: 12\n",
            "09/23/2022 05:54:24 - WARNING -   \t vision_width: 768\n",
            "09/23/2022 05:54:24 - WARNING -   \t vision_patch_size: 32\n",
            "09/23/2022 05:54:24 - WARNING -   \t context_length: 77\n",
            "09/23/2022 05:54:24 - WARNING -   \t vocab_size: 49408\n",
            "09/23/2022 05:54:24 - WARNING -   \t transformer_width: 512\n",
            "09/23/2022 05:54:24 - WARNING -   \t transformer_heads: 8\n",
            "09/23/2022 05:54:24 - WARNING -   \t transformer_layers: 12\n",
            "09/23/2022 05:54:24 - WARNING -   \t\t linear_patch: 2d\n",
            "09/23/2022 05:54:24 - WARNING -   \t cut_top_layer: 0\n",
            "09/23/2022 05:54:26 - WARNING -   \t sim_header: seqTransf\n",
            "09/23/2022 05:54:31 - INFO -   --------------------\n",
            "09/23/2022 05:54:31 - INFO -   Weights of XCLIP not initialized from pretrained model: \n",
            "   global_mat_weight\n",
            "   word_logit_weight\n",
            "   frame_logit_weight\n",
            "   local_mat_weight\n",
            "   frame_mat_weight\n",
            "   word_mat_weight\n",
            "   frame_mat_weight2\n",
            "   word_mat_weight2\n",
            "09/23/2022 05:54:31 - INFO -   Weights from pretrained model not used in XCLIP: \n",
            "   clip.input_resolution\n",
            "   clip.context_length\n",
            "   clip.vocab_size\n",
            "/usr/local/lib/python3.7/dist-packages/torchvision/transforms/transforms.py:333: UserWarning: Argument 'interpolation' of type int is deprecated since 0.13 and will be removed in 0.15. Please use InterpolationMode enum.\n",
            "  \"Argument 'interpolation' of type int is deprecated since 0.13 and will be removed in 0.15. \"\n",
            "09/23/2022 05:54:33 - INFO -   ***** Running test *****\n",
            "09/23/2022 05:54:33 - INFO -     Num examples = 1000\n",
            "09/23/2022 05:54:33 - INFO -     Batch size = 16\n",
            "09/23/2022 05:54:33 - INFO -     Num steps = 63\n",
            "09/23/2022 05:54:33 - INFO -   ***** Running val *****\n",
            "09/23/2022 05:54:33 - INFO -     Num examples = 1000\n",
            "09/23/2022 05:54:51 - INFO -   ***** Running training *****\n",
            "09/23/2022 05:54:51 - INFO -     Num examples = 180000\n",
            "09/23/2022 05:54:51 - INFO -     Batch size = 16\n",
            "09/23/2022 05:54:51 - INFO -     Num steps = 112500\n",
            "[W reducer.cpp:1251] Warning: find_unused_parameters=True was specified in DDP constructor, but did not find any unused parameters in the forward pass. This flag results in an extra traversal of the autograd graph every iteration,  which can adversely affect performance. If your model indeed never has any unused parameters in the forward pass, consider turning this flag off. Note that this warning may be a false positive if your model has flow control causing later iterations to have unused parameters. (function operator())\n",
            "09/23/2022 05:55:21 - INFO -   Epoch: 1/10, Step: 1/11250, Lr: 0.000000000-0.000000009, Loss: 0.498916, Time/step: 30.551247\n",
            "09/23/2022 05:55:23 - INFO -   Epoch: 1/10, Step: 2/11250, Lr: 0.000000000-0.000000018, Loss: 1.021611, Time/step: 1.705364\n",
            "09/23/2022 05:55:42 - INFO -   Epoch: 1/10, Step: 3/11250, Lr: 0.000000000-0.000000027, Loss: 0.784117, Time/step: 19.402880\n",
            "09/23/2022 05:55:44 - INFO -   Epoch: 1/10, Step: 4/11250, Lr: 0.000000000-0.000000036, Loss: 0.315748, Time/step: 1.473213\n",
            "09/23/2022 05:56:07 - INFO -   Epoch: 1/10, Step: 5/11250, Lr: 0.000000000-0.000000044, Loss: 0.685345, Time/step: 23.504537\n",
            "09/23/2022 05:56:09 - INFO -   Epoch: 1/10, Step: 6/11250, Lr: 0.000000000-0.000000053, Loss: 0.351253, Time/step: 1.725730\n",
            "09/23/2022 05:56:25 - INFO -   Epoch: 1/10, Step: 7/11250, Lr: 0.000000000-0.000000062, Loss: 0.570140, Time/step: 16.325610\n",
            "09/23/2022 05:56:30 - INFO -   Epoch: 1/10, Step: 8/11250, Lr: 0.000000000-0.000000071, Loss: 0.330975, Time/step: 4.226499\n",
            "09/23/2022 05:56:48 - INFO -   Epoch: 1/10, Step: 9/11250, Lr: 0.000000000-0.000000080, Loss: 0.744968, Time/step: 18.481379\n",
            "09/23/2022 05:56:57 - INFO -   Epoch: 1/10, Step: 10/11250, Lr: 0.000000000-0.000000089, Loss: 0.965818, Time/step: 8.354843\n",
            "09/23/2022 05:57:08 - INFO -   Epoch: 1/10, Step: 11/11250, Lr: 0.000000000-0.000000098, Loss: 0.857778, Time/step: 11.270193\n",
            "09/23/2022 05:57:19 - INFO -   Epoch: 1/10, Step: 12/11250, Lr: 0.000000000-0.000000107, Loss: 1.066923, Time/step: 11.071966\n",
            "09/23/2022 05:57:28 - INFO -   Epoch: 1/10, Step: 13/11250, Lr: 0.000000000-0.000000116, Loss: 0.663948, Time/step: 9.571733\n",
            "09/23/2022 05:57:37 - INFO -   Epoch: 1/10, Step: 14/11250, Lr: 0.000000000-0.000000124, Loss: 0.724998, Time/step: 8.475295\n",
            "09/23/2022 05:57:51 - INFO -   Epoch: 1/10, Step: 15/11250, Lr: 0.000000000-0.000000133, Loss: 0.925573, Time/step: 13.575452\n",
            "09/23/2022 05:58:00 - INFO -   Epoch: 1/10, Step: 16/11250, Lr: 0.000000000-0.000000142, Loss: 0.525169, Time/step: 9.377241\n",
            "09/23/2022 05:58:17 - INFO -   Epoch: 1/10, Step: 17/11250, Lr: 0.000000000-0.000000151, Loss: 0.475631, Time/step: 17.407162\n",
            "09/23/2022 05:58:33 - INFO -   Epoch: 1/10, Step: 18/11250, Lr: 0.000000000-0.000000160, Loss: 1.100623, Time/step: 16.004576\n",
            "09/23/2022 05:58:37 - INFO -   Epoch: 1/10, Step: 19/11250, Lr: 0.000000000-0.000000169, Loss: 0.598458, Time/step: 3.868658\n",
            "09/23/2022 05:58:56 - INFO -   Epoch: 1/10, Step: 20/11250, Lr: 0.000000000-0.000000178, Loss: 0.591531, Time/step: 19.207149\n",
            "09/23/2022 05:58:58 - INFO -   Epoch: 1/10, Step: 21/11250, Lr: 0.000000000-0.000000187, Loss: 0.479677, Time/step: 1.698732\n",
            "09/23/2022 05:59:18 - INFO -   Epoch: 1/10, Step: 22/11250, Lr: 0.000000000-0.000000196, Loss: 0.935934, Time/step: 19.769947\n",
            "09/23/2022 05:59:20 - INFO -   Epoch: 1/10, Step: 23/11250, Lr: 0.000000000-0.000000204, Loss: 0.820948, Time/step: 1.655037\n",
            "09/23/2022 05:59:35 - INFO -   Epoch: 1/10, Step: 24/11250, Lr: 0.000000000-0.000000213, Loss: 0.669510, Time/step: 15.578415\n",
            "09/23/2022 05:59:37 - INFO -   Epoch: 1/10, Step: 25/11250, Lr: 0.000000000-0.000000222, Loss: 1.016218, Time/step: 2.338118\n",
            "09/23/2022 05:59:58 - INFO -   Epoch: 1/10, Step: 26/11250, Lr: 0.000000000-0.000000231, Loss: 1.193845, Time/step: 21.051186\n",
            "09/23/2022 06:00:00 - INFO -   Epoch: 1/10, Step: 27/11250, Lr: 0.000000000-0.000000240, Loss: 1.084298, Time/step: 1.561638\n",
            "09/23/2022 06:00:24 - INFO -   Epoch: 1/10, Step: 28/11250, Lr: 0.000000000-0.000000249, Loss: 0.883917, Time/step: 23.460518\n",
            "09/23/2022 06:00:26 - INFO -   Epoch: 1/10, Step: 29/11250, Lr: 0.000000000-0.000000258, Loss: 0.545019, Time/step: 2.443130\n",
            "09/23/2022 06:00:48 - INFO -   Epoch: 1/10, Step: 30/11250, Lr: 0.000000000-0.000000267, Loss: 0.176550, Time/step: 22.051392\n",
            "09/23/2022 06:00:50 - INFO -   Epoch: 1/10, Step: 31/11250, Lr: 0.000000000-0.000000276, Loss: 0.641855, Time/step: 1.494031\n",
            "09/23/2022 06:01:09 - INFO -   Epoch: 1/10, Step: 32/11250, Lr: 0.000000000-0.000000284, Loss: 0.410098, Time/step: 19.322038\n",
            "09/23/2022 06:01:10 - INFO -   Epoch: 1/10, Step: 33/11250, Lr: 0.000000000-0.000000293, Loss: 1.041546, Time/step: 1.599487\n",
            "09/23/2022 06:01:36 - INFO -   Epoch: 1/10, Step: 34/11250, Lr: 0.000000000-0.000000302, Loss: 0.793324, Time/step: 25.634990\n",
            "09/23/2022 06:01:37 - INFO -   Epoch: 1/10, Step: 35/11250, Lr: 0.000000000-0.000000311, Loss: 0.560083, Time/step: 1.355816\n",
            "09/23/2022 06:01:54 - INFO -   Epoch: 1/10, Step: 36/11250, Lr: 0.000000000-0.000000320, Loss: 0.621663, Time/step: 16.925443\n",
            "09/23/2022 06:01:56 - INFO -   Epoch: 1/10, Step: 37/11250, Lr: 0.000000000-0.000000329, Loss: 0.732563, Time/step: 1.431126\n",
            "09/23/2022 06:02:20 - INFO -   Epoch: 1/10, Step: 38/11250, Lr: 0.000000000-0.000000338, Loss: 0.822280, Time/step: 24.544646\n",
            "09/23/2022 06:02:22 - INFO -   Epoch: 1/10, Step: 39/11250, Lr: 0.000000000-0.000000347, Loss: 0.631430, Time/step: 1.530157\n",
            "09/23/2022 06:02:45 - INFO -   Epoch: 1/10, Step: 40/11250, Lr: 0.000000000-0.000000356, Loss: 0.839222, Time/step: 22.716105\n",
            "09/23/2022 06:02:46 - INFO -   Epoch: 1/10, Step: 41/11250, Lr: 0.000000000-0.000000364, Loss: 0.888984, Time/step: 1.703104\n",
            "09/23/2022 06:03:10 - INFO -   Epoch: 1/10, Step: 42/11250, Lr: 0.000000000-0.000000373, Loss: 0.770134, Time/step: 23.756347\n",
            "09/23/2022 06:03:12 - INFO -   Epoch: 1/10, Step: 43/11250, Lr: 0.000000000-0.000000382, Loss: 0.464744, Time/step: 1.541370\n",
            "09/23/2022 06:03:31 - INFO -   Epoch: 1/10, Step: 44/11250, Lr: 0.000000000-0.000000391, Loss: 0.604418, Time/step: 19.414359\n",
            "09/23/2022 06:03:33 - INFO -   Epoch: 1/10, Step: 45/11250, Lr: 0.000000000-0.000000400, Loss: 0.851523, Time/step: 1.492225\n",
            "09/23/2022 06:03:50 - INFO -   Epoch: 1/10, Step: 46/11250, Lr: 0.000000000-0.000000409, Loss: 0.493359, Time/step: 17.908283\n",
            "09/23/2022 06:03:52 - INFO -   Epoch: 1/10, Step: 47/11250, Lr: 0.000000000-0.000000418, Loss: 0.368391, Time/step: 1.501987\n",
            "09/23/2022 06:04:11 - INFO -   Epoch: 1/10, Step: 48/11250, Lr: 0.000000000-0.000000427, Loss: 0.977008, Time/step: 18.626850\n",
            "09/23/2022 06:04:12 - INFO -   Epoch: 1/10, Step: 49/11250, Lr: 0.000000000-0.000000436, Loss: 0.462293, Time/step: 1.842112\n",
            "09/23/2022 06:04:32 - INFO -   Epoch: 1/10, Step: 50/11250, Lr: 0.000000000-0.000000444, Loss: 0.181055, Time/step: 20.055389\n",
            "09/23/2022 06:04:34 - INFO -   Epoch: 1/10, Step: 51/11250, Lr: 0.000000000-0.000000453, Loss: 0.450408, Time/step: 1.656727\n",
            "09/23/2022 06:04:51 - INFO -   Epoch: 1/10, Step: 52/11250, Lr: 0.000000000-0.000000462, Loss: 0.365756, Time/step: 16.550012\n",
            "09/23/2022 06:04:52 - INFO -   Epoch: 1/10, Step: 53/11250, Lr: 0.000000000-0.000000471, Loss: 0.615292, Time/step: 1.718884\n",
            "09/23/2022 06:05:09 - INFO -   Epoch: 1/10, Step: 54/11250, Lr: 0.000000000-0.000000480, Loss: 0.722054, Time/step: 16.107039\n",
            "09/23/2022 06:05:10 - INFO -   Epoch: 1/10, Step: 55/11250, Lr: 0.000000000-0.000000489, Loss: 1.624708, Time/step: 1.517385\n",
            "09/23/2022 06:05:36 - INFO -   Epoch: 1/10, Step: 56/11250, Lr: 0.000000000-0.000000498, Loss: 0.656730, Time/step: 25.969423\n",
            "09/23/2022 06:05:38 - INFO -   Epoch: 1/10, Step: 57/11250, Lr: 0.000000001-0.000000507, Loss: 0.860417, Time/step: 1.672385\n",
            "09/23/2022 06:05:59 - INFO -   Epoch: 1/10, Step: 58/11250, Lr: 0.000000001-0.000000516, Loss: 0.490875, Time/step: 21.360593\n",
            "09/23/2022 06:06:01 - INFO -   Epoch: 1/10, Step: 59/11250, Lr: 0.000000001-0.000000524, Loss: 0.586065, Time/step: 1.534051\n",
            "09/23/2022 06:06:22 - INFO -   Epoch: 1/10, Step: 60/11250, Lr: 0.000000001-0.000000533, Loss: 1.474123, Time/step: 21.416292\n",
            "09/23/2022 06:06:24 - INFO -   Epoch: 1/10, Step: 61/11250, Lr: 0.000000001-0.000000542, Loss: 0.819620, Time/step: 1.592300\n",
            "09/23/2022 06:06:43 - INFO -   Epoch: 1/10, Step: 62/11250, Lr: 0.000000001-0.000000551, Loss: 0.217943, Time/step: 19.409353\n",
            "09/23/2022 06:06:45 - INFO -   Epoch: 1/10, Step: 63/11250, Lr: 0.000000001-0.000000560, Loss: 0.839603, Time/step: 1.545439\n",
            "09/23/2022 06:07:04 - INFO -   Epoch: 1/10, Step: 64/11250, Lr: 0.000000001-0.000000569, Loss: 0.701283, Time/step: 19.432534\n",
            "09/23/2022 06:07:06 - INFO -   Epoch: 1/10, Step: 65/11250, Lr: 0.000000001-0.000000578, Loss: 0.443696, Time/step: 1.509998\n",
            "09/23/2022 06:07:24 - INFO -   Epoch: 1/10, Step: 66/11250, Lr: 0.000000001-0.000000587, Loss: 0.485180, Time/step: 18.843105\n",
            "09/23/2022 06:07:26 - INFO -   Epoch: 1/10, Step: 67/11250, Lr: 0.000000001-0.000000596, Loss: 0.980804, Time/step: 1.490842\n",
            "09/23/2022 06:07:43 - INFO -   Epoch: 1/10, Step: 68/11250, Lr: 0.000000001-0.000000604, Loss: 0.578641, Time/step: 16.953972\n",
            "09/23/2022 06:07:45 - INFO -   Epoch: 1/10, Step: 69/11250, Lr: 0.000000001-0.000000613, Loss: 1.110698, Time/step: 1.931315\n",
            "09/23/2022 06:08:09 - INFO -   Epoch: 1/10, Step: 70/11250, Lr: 0.000000001-0.000000622, Loss: 0.791973, Time/step: 23.972718\n",
            "09/23/2022 06:08:10 - INFO -   Epoch: 1/10, Step: 71/11250, Lr: 0.000000001-0.000000631, Loss: 0.823719, Time/step: 1.323873\n",
            "09/23/2022 06:08:31 - INFO -   Epoch: 1/10, Step: 72/11250, Lr: 0.000000001-0.000000640, Loss: 0.909406, Time/step: 20.734719\n",
            "09/23/2022 06:08:33 - INFO -   Epoch: 1/10, Step: 73/11250, Lr: 0.000000001-0.000000649, Loss: 0.364186, Time/step: 1.926718\n",
            "09/23/2022 06:08:53 - INFO -   Epoch: 1/10, Step: 74/11250, Lr: 0.000000001-0.000000658, Loss: 0.347150, Time/step: 20.601633\n",
            "09/23/2022 06:08:55 - INFO -   Epoch: 1/10, Step: 75/11250, Lr: 0.000000001-0.000000667, Loss: 0.663246, Time/step: 1.551308\n",
            "09/23/2022 06:09:19 - INFO -   Epoch: 1/10, Step: 76/11250, Lr: 0.000000001-0.000000676, Loss: 0.750081, Time/step: 23.690339\n",
            "09/23/2022 06:09:20 - INFO -   Epoch: 1/10, Step: 77/11250, Lr: 0.000000001-0.000000684, Loss: 0.362524, Time/step: 1.695321\n",
            "09/23/2022 06:09:38 - INFO -   Epoch: 1/10, Step: 78/11250, Lr: 0.000000001-0.000000693, Loss: 0.376529, Time/step: 17.908426\n",
            "09/23/2022 06:09:40 - INFO -   Epoch: 1/10, Step: 79/11250, Lr: 0.000000001-0.000000702, Loss: 1.380939, Time/step: 1.695425\n",
            "09/23/2022 06:10:00 - INFO -   Epoch: 1/10, Step: 80/11250, Lr: 0.000000001-0.000000711, Loss: 0.486814, Time/step: 20.376511\n",
            "09/23/2022 06:10:02 - INFO -   Epoch: 1/10, Step: 81/11250, Lr: 0.000000001-0.000000720, Loss: 0.412335, Time/step: 1.536288\n",
            "09/23/2022 06:10:22 - INFO -   Epoch: 1/10, Step: 82/11250, Lr: 0.000000001-0.000000729, Loss: 0.579065, Time/step: 20.241604\n",
            "09/23/2022 06:10:24 - INFO -   Epoch: 1/10, Step: 83/11250, Lr: 0.000000001-0.000000738, Loss: 0.527095, Time/step: 1.692745\n",
            "09/23/2022 06:10:47 - INFO -   Epoch: 1/10, Step: 84/11250, Lr: 0.000000001-0.000000747, Loss: 0.354770, Time/step: 23.660955\n",
            "09/23/2022 06:10:49 - INFO -   Epoch: 1/10, Step: 85/11250, Lr: 0.000000001-0.000000756, Loss: 0.896353, Time/step: 1.636728\n",
            "09/23/2022 06:11:07 - INFO -   Epoch: 1/10, Step: 86/11250, Lr: 0.000000001-0.000000764, Loss: 0.966157, Time/step: 17.960218\n",
            "09/23/2022 06:11:09 - INFO -   Epoch: 1/10, Step: 87/11250, Lr: 0.000000001-0.000000773, Loss: 1.070382, Time/step: 2.040130\n",
            "09/23/2022 06:11:24 - INFO -   Epoch: 1/10, Step: 88/11250, Lr: 0.000000001-0.000000782, Loss: 0.467391, Time/step: 15.029304\n",
            "09/23/2022 06:11:26 - INFO -   Epoch: 1/10, Step: 89/11250, Lr: 0.000000001-0.000000791, Loss: 0.548331, Time/step: 1.531298\n",
            "09/23/2022 06:11:46 - INFO -   Epoch: 1/10, Step: 90/11250, Lr: 0.000000001-0.000000800, Loss: 0.474914, Time/step: 20.353091\n",
            "09/23/2022 06:11:48 - INFO -   Epoch: 1/10, Step: 91/11250, Lr: 0.000000001-0.000000809, Loss: 0.621012, Time/step: 1.690333\n",
            "09/23/2022 06:12:11 - INFO -   Epoch: 1/10, Step: 92/11250, Lr: 0.000000001-0.000000818, Loss: 0.931501, Time/step: 23.583414\n",
            "09/23/2022 06:12:13 - INFO -   Epoch: 1/10, Step: 93/11250, Lr: 0.000000001-0.000000827, Loss: 0.394647, Time/step: 1.588704\n",
            "09/23/2022 06:12:33 - INFO -   Epoch: 1/10, Step: 94/11250, Lr: 0.000000001-0.000000836, Loss: 0.849977, Time/step: 19.772116\n",
            "09/23/2022 06:12:34 - INFO -   Epoch: 1/10, Step: 95/11250, Lr: 0.000000001-0.000000844, Loss: 0.468322, Time/step: 1.645544\n",
            "09/23/2022 06:12:55 - INFO -   Epoch: 1/10, Step: 96/11250, Lr: 0.000000001-0.000000853, Loss: 0.524224, Time/step: 20.330359\n",
            "09/23/2022 06:12:57 - INFO -   Epoch: 1/10, Step: 97/11250, Lr: 0.000000001-0.000000862, Loss: 0.600010, Time/step: 2.365071\n",
            "09/23/2022 06:13:19 - INFO -   Epoch: 1/10, Step: 98/11250, Lr: 0.000000001-0.000000871, Loss: 0.776505, Time/step: 22.351179\n",
            "09/23/2022 06:13:21 - INFO -   Epoch: 1/10, Step: 99/11250, Lr: 0.000000001-0.000000880, Loss: 0.439016, Time/step: 1.598031\n",
            "09/23/2022 06:13:41 - INFO -   Epoch: 1/10, Step: 100/11250, Lr: 0.000000001-0.000000889, Loss: 0.496508, Time/step: 19.861235\n",
            "09/23/2022 06:13:42 - INFO -   Epoch: 1/10, Step: 101/11250, Lr: 0.000000001-0.000000898, Loss: 0.621237, Time/step: 1.391666\n",
            "09/23/2022 06:14:04 - INFO -   Epoch: 1/10, Step: 102/11250, Lr: 0.000000001-0.000000907, Loss: 0.452901, Time/step: 21.668994\n",
            "09/23/2022 06:14:06 - INFO -   Epoch: 1/10, Step: 103/11250, Lr: 0.000000001-0.000000916, Loss: 0.286977, Time/step: 1.706396\n",
            "09/23/2022 06:14:24 - INFO -   Epoch: 1/10, Step: 104/11250, Lr: 0.000000001-0.000000924, Loss: 1.092357, Time/step: 18.687188\n",
            "09/23/2022 06:14:26 - INFO -   Epoch: 1/10, Step: 105/11250, Lr: 0.000000001-0.000000933, Loss: 1.012329, Time/step: 1.460596\n",
            "09/23/2022 06:14:46 - INFO -   Epoch: 1/10, Step: 106/11250, Lr: 0.000000001-0.000000942, Loss: 1.066481, Time/step: 19.904512\n",
            "09/23/2022 06:14:47 - INFO -   Epoch: 1/10, Step: 107/11250, Lr: 0.000000001-0.000000951, Loss: 0.534807, Time/step: 1.616206\n",
            "09/23/2022 06:15:10 - INFO -   Epoch: 1/10, Step: 108/11250, Lr: 0.000000001-0.000000960, Loss: 0.462303, Time/step: 23.125176\n",
            "09/23/2022 06:15:12 - INFO -   Epoch: 1/10, Step: 109/11250, Lr: 0.000000001-0.000000969, Loss: 0.904771, Time/step: 1.675174\n",
            "09/23/2022 06:15:34 - INFO -   Epoch: 1/10, Step: 110/11250, Lr: 0.000000001-0.000000978, Loss: 1.071044, Time/step: 21.464530\n",
            "09/23/2022 06:15:35 - INFO -   Epoch: 1/10, Step: 111/11250, Lr: 0.000000001-0.000000987, Loss: 0.750584, Time/step: 1.657366\n"
          ]
        }
      ]
    },
    {
      "cell_type": "code",
      "source": [
        "%cd /content/drive/MyDrive/Video_Retrieval/X-CLIP\n",
        "# ViT-B/16\n",
        "job_name=\"xclip_msrvtt_vit16\"\n",
        "DATA_PATH=\"[Your MSRVTT data and videos path]\"\n",
        "!python -m torch.distributed.launch --nproc_per_node=1 \\\n",
        "    main_xclip.py --do_train --num_thread_reader=2 \\\n",
        "    --lr 1e-4 --batch_size=16  --batch_size_val 16 \\\n",
        "    --epochs=5  --n_display=10 \\\n",
        "    --train_csv /content/drive/MyDrive/Video_Retrieval/Dataset/msrvtt_data/MSRVTT_train.9k.csv \\\n",
        "    --val_csv /content/drive/MyDrive/Video_Retrieval/Dataset/msrvtt_data/MSRVTT_JSFUSION_test.csv \\\n",
        "    --data_path /content/drive/MyDrive/Video_Retrieval/Dataset/msrvtt_data/MSRVTT_data.json \\\n",
        "    --features_path /content/drive/MyDrive/Video_Retrieval/Dataset/MSRVTT/videos/all \\\n",
        "    --output_dir ckpts_dsw/${job_name} \\\n",
        "    --max_words 32 --max_frames 12 \\\n",
        "    --datatype msrvtt --expand_msrvtt_sentences  \\\n",
        "    --feature_framerate 1 --coef_lr 1e-3 \\\n",
        "    --freeze_layer_num 0  --slice_framepos 2 \\\n",
        "    --loose_type --linear_patch 2d --sim_header seqTransf \\\n",
        "    --pretrained_clip_name ViT-B/16 2>&1 | tee -a log/${job_name}"
      ],
      "metadata": {
        "id": "2iV8G6OseoPC"
      },
      "execution_count": null,
      "outputs": []
    }
  ]
}