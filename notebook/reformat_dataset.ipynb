{
 "cells": [
  {
   "cell_type": "code",
   "execution_count": null,
   "metadata": {},
   "outputs": [],
   "source": [
    "from glob import glob\n",
    "from tqdm import tqdm\n",
    "import pandas as pd\n",
    "import os\n",
    "\n",
    "\n",
    "lst_csv = glob('/media/nhattuong/Data/Dataset_BTC/keyframe_p_batch3/*.csv')\n",
    "lst_csv.sort()\n",
    "dct_names = {}\n",
    "for csv_path in tqdm(lst_csv):\n",
    "  df = pd.read_csv(csv_path,header = None)\n",
    "  for i in df.index:\n",
    "    row = df.loc[i]\n",
    "    video_id = csv_path.split('/')[-1][:-4]\n",
    "    key = f'{video_id}/{row[0]}'\n",
    "    value = f'{video_id}/{row[1]:06}.jpg' \n",
    "    dct_names[key] = value\n",
    "\n",
    "\n",
    "frames_path = '/media/nhattuong/Extreme SSD/AIC2022/KeyFrames_Batch3'\n",
    "folder_save_path = '/media/nhattuong/Extreme SSD/AIC2022/Backup_DataBTC'\n",
    "os.makedirs(folder_save_path, exist_ok = True)\n",
    "\n",
    "prev_keyframe = ''\n",
    "for key, value in tqdm(dct_names.items()):\n",
    "  keyframe = f'KeyFrames{key.split(\"/\")[0][:-2]}' # KeyFramesC00_V00\n",
    "  frame_src_path = f'{frames_path}/{keyframe}/{key}'\n",
    "  frame_dst_path = f'{frames_path}/{keyframe}/{value}'\n",
    "\n",
    "  if frame_src_path == frame_dst_path or not os.path.exists(frame_src_path):\n",
    "    continue\n",
    "\n",
    "  if prev_keyframe != keyframe:\n",
    "    lst_frame_in_video = os.listdir('/'.join(frame_src_path.split('/')[:-1]))\n",
    "    prev_keyframe = keyframe\n",
    "\n",
    "  if frame_dst_path.split('/')[-1] in lst_frame_in_video:\n",
    "    dst_folder = f'{folder_save_path}/{frame_src_path.split(\"/\")[-2]}'\n",
    "    print('BUgggggggg')\n",
    "\n",
    "    # os.makedirs(dst_folder, exist_ok = True)\n",
    "    # os.system(f'mv {frame_src_path} {dst_folder}')\n",
    "  else:\n",
    "    os.rename(frame_src_path, frame_dst_path)"
   ]
  },
  {
   "cell_type": "code",
   "execution_count": 3,
   "metadata": {},
   "outputs": [],
   "source": [
    "from glob import glob\n",
    "from tqdm import tqdm\n",
    "import pandas as pd\n",
    "import os\n",
    "\n",
    "def reformat_keyframe_name(list_csv_paths:str, list_frame_paths:str):\n",
    "    \"\"\"\n",
    "    It takes a list of csv files and a list of frame paths, and renames the frames in the frame paths to\n",
    "    match the csv files\n",
    "    \n",
    "    :param list_csv_paths: the path to the folder containing the csv files. If folder contains Batch1 and Batch2 csv then function will rename all frame in Batch1 and Batch2.\n",
    "    :param list_frame_paths: the path to the folder containing the frames\n",
    "    \"\"\"\n",
    "    lst_csv = glob(f'{list_csv_paths}/*.csv')\n",
    "\n",
    "    lst_csv.sort()\n",
    "    dct_names = {}\n",
    "\n",
    "    for csv_path in tqdm(lst_csv):\n",
    "        df = pd.read_csv(csv_path,header = None)\n",
    "        for i in df.index:\n",
    "            row = df.loc[i]\n",
    "            video_id = csv_path.split('/')[-1][:-4]\n",
    "            key = f'{video_id}/{row[0]}'\n",
    "            value = f'{video_id}/{row[1]:0>6}.jpg' \n",
    "            dct_names[key] = value\n",
    "\n",
    "    prev_keyframe = ''\n",
    "    for key, value in tqdm(dct_names.items()):\n",
    "        keyframe = f'KeyFrames{key.split(\"/\")[0][:-2]}' # KeyFramesC00_V00\n",
    "        frame_src_path = f'{list_frame_paths}/{keyframe}/{key}'\n",
    "        frame_dst_path = f'{list_frame_paths}/{keyframe}/{value}'\n",
    "\n",
    "        if frame_src_path == frame_dst_path or not os.path.exists(frame_src_path):\n",
    "            continue\n",
    "\n",
    "        os.rename(frame_src_path, frame_dst_path)"
   ]
  },
  {
   "cell_type": "code",
   "execution_count": 4,
   "metadata": {},
   "outputs": [
    {
     "name": "stderr",
     "output_type": "stream",
     "text": [
      "100%|██████████| 649/649 [00:09<00:00, 71.15it/s] \n",
      "100%|██████████| 246856/246856 [00:11<00:00, 22007.37it/s] \n"
     ]
    }
   ],
   "source": [
    "list_csv_paths = '/media/nhattuong/Data/Dataset_BTC/keyframe_p_batch3'\n",
    "list_frame_paths = '/media/nhattuong/Extreme SSD/AIC2022/KeyFrames_Batch3'\n",
    "reformat_keyframe_name(list_csv_paths, list_frame_paths)"
   ]
  }
 ],
 "metadata": {
  "kernelspec": {
   "display_name": "Python 3.8.13 ('od')",
   "language": "python",
   "name": "python3"
  },
  "language_info": {
   "codemirror_mode": {
    "name": "ipython",
    "version": 3
   },
   "file_extension": ".py",
   "mimetype": "text/x-python",
   "name": "python",
   "nbconvert_exporter": "python",
   "pygments_lexer": "ipython3",
   "version": "3.8.13"
  },
  "orig_nbformat": 4,
  "vscode": {
   "interpreter": {
    "hash": "4d503070cf9b0871fe8a2947821527b8fb320293fb18d776ae95eedc6e27cb3a"
   }
  }
 },
 "nbformat": 4,
 "nbformat_minor": 2
}
